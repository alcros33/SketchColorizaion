{
 "cells": [
  {
   "cell_type": "markdown",
   "metadata": {},
   "source": [
    "# Download and filter Danbooru images using metadata"
   ]
  },
  {
   "cell_type": "code",
   "execution_count": 1,
   "metadata": {},
   "outputs": [],
   "source": [
    "import os, traceback, json, pickle, shutil\n",
    "from pathlib import Path\n",
    "import pandas as pd"
   ]
  },
  {
   "cell_type": "code",
   "execution_count": null,
   "metadata": {},
   "outputs": [],
   "source": [
    "## Download danbooru metadata\n",
    "# Checkout source https://www.gwern.net/Danbooru2021#rsync to get the actual download url\n",
    "#!rsync --verbose rsync://link/to/danbooru2021/metadata.json.tar.xz ./danbooru/"
   ]
  },
  {
   "cell_type": "code",
   "execution_count": null,
   "metadata": {},
   "outputs": [],
   "source": [
    "# Untar jsons\n",
    "#!tar -xvf --directory ./danbooru/raw_meta ./danbooru/metadata.json.tar.xz"
   ]
  },
  {
   "cell_type": "code",
   "execution_count": null,
   "metadata": {},
   "outputs": [],
   "source": [
    "SIMPLE_BACKGROUND = 412368\n",
    "WHITE_BACKGROUND = 515193\n",
    "sketch_tags = [513837, 1931] # grayscale, sketch\n",
    "include_tags = [470575, 540830] # 1girl, 1boy\n",
    "hair_tags = [87788, 16867, 13200, 10953, 16442, 11429, 15425, 8388, 5403, 16581, 87676, 16580, 94007, 403081, 468534]\n",
    "eye_tags = [10959, 8526, 16578, 10960, 15654, 89189, 16750, 13199, 89368, 95405, 89228, 390186]\n",
    "blacklist_tags = [63, 4751, 12650, 172609, 555246, 513475] # "
   ]
  },
  {
   "cell_type": "code",
   "execution_count": 2,
   "metadata": {},
   "outputs": [],
   "source": [
    "def  valid_meta(meta):\n",
    "    if meta[\"rating\"] !=\"s\":\n",
    "        return False\n",
    "\n",
    "    tags = set(int(tag['id']) for tag in meta['tags'] if tag['category'] == '0')\n",
    "        \n",
    "    for black in blacklist_tags:\n",
    "        if black in tags:\n",
    "            return False\n",
    "\n",
    "    if len(tags.intersection(sketch_tags)) >= 1 and WHITE_BACKGROUND in tags:\n",
    "        return False\n",
    "\n",
    "    if SIMPLE_BACKGROUND not in tags:\n",
    "        return False\n",
    "\n",
    "    conditions = all(len(tags.intersection(lst)) == 1 for lst in [include_tags, hair_tags, eye_tags])\n",
    "    if not conditions:\n",
    "        return False\n",
    "\n",
    "    return True"
   ]
  },
  {
   "cell_type": "code",
   "execution_count": 3,
   "metadata": {},
   "outputs": [],
   "source": [
    "def proc_record(meta):\n",
    "    file_id = int(meta['id'])\n",
    "    filename = f'{file_id%1000:04d}/{file_id}.jpg'\n",
    "    tags = \" \".join(set(tag['name'] for tag in meta['tags'] if tag['category'] == '0'))\n",
    "    char = \"\"\n",
    "    for t in meta['tags']:\n",
    "        if t['category']=='4':\n",
    "            char = t['name']\n",
    "            break\n",
    "    return (str(file_id), filename, meta['image_width'], meta['image_height'], tags, char)"
   ]
  },
  {
   "cell_type": "code",
   "execution_count": 4,
   "metadata": {},
   "outputs": [],
   "source": [
    "def filter_size(meta):\n",
    "    w, h = int(meta['image_width']), int(meta['image_height'])\n",
    "    if w < 512 and h < 512:\n",
    "        return False\n",
    "    if not (3 / 4 < w / h < 4 / 3):\n",
    "        return False\n",
    "    return True"
   ]
  },
  {
   "cell_type": "code",
   "execution_count": 5,
   "metadata": {},
   "outputs": [],
   "source": [
    "def proc_file(fname):\n",
    "    outname = \"./danbooru/clean_meta/\" + fname.stem + \".csv\"\n",
    "    with open(fname,'r') as src, open(outname,'w') as out:\n",
    "        out.write(\"id,fname,width,height,tags,character\\n\")\n",
    "        for line in src:\n",
    "            meta = json.loads(line)\n",
    "            if not valid_meta(meta):\n",
    "                continue\n",
    "            res = \",\".join(proc_record(meta))\n",
    "            out.write(res+\"\\n\")"
   ]
  },
  {
   "cell_type": "code",
   "execution_count": 6,
   "metadata": {},
   "outputs": [],
   "source": [
    "from fastcore.parallel import parallel\n",
    "# Turn jsons into CSV while filtering undesired files\n",
    "parallel(proc_file, sorted(Path(\"./danbooru/raw_meta/\").glob(\"*.json\")), progress=True)"
   ]
  },
  {
   "cell_type": "code",
   "execution_count": 17,
   "metadata": {},
   "outputs": [],
   "source": [
    "# Join CSVs\n",
    "twsss = None\n",
    "for fname in Path(\"./danbooru/clean_meta\").glob(\"*.csv\"):\n",
    "    tw = pd.read_csv(fname, index_col='id')\n",
    "    twsss = pd.concat([twsss, tw])\n",
    "twsss.to_csv(\"./danbooru/clean_metadata.csv\")"
   ]
  },
  {
   "cell_type": "code",
   "execution_count": null,
   "metadata": {},
   "outputs": [],
   "source": [
    "# Write the filtered files to include.txt\n",
    "with open(\"./danbooru/include.txt\", 'w') as f:\n",
    "    f.write(\"\\n\".join(twsss.fname))"
   ]
  },
  {
   "cell_type": "code",
   "execution_count": 41,
   "metadata": {},
   "outputs": [],
   "source": [
    "# Download ONLY the files listed in include.txt\n",
    "# Checkout source https://www.gwern.net/Danbooru2021#rsync to get the actual download url\n",
    "#!rsync --recursive --verbose --files-from=./danbooru/include.txt rsync://link/to/danbooru2021/512px/ ./danbooru/512px/ "
   ]
  },
  {
   "cell_type": "code",
   "execution_count": null,
   "metadata": {},
   "outputs": [],
   "source": []
  }
 ],
 "metadata": {
  "kernelspec": {
   "display_name": "Fastai",
   "language": "python",
   "name": "fastaienv"
  },
  "language_info": {
   "codemirror_mode": {
    "name": "ipython",
    "version": 3
   },
   "file_extension": ".py",
   "mimetype": "text/x-python",
   "name": "python",
   "nbconvert_exporter": "python",
   "pygments_lexer": "ipython3",
   "version": "3.8.8"
  }
 },
 "nbformat": 4,
 "nbformat_minor": 4
}
